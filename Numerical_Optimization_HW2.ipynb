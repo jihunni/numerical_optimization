{
  "nbformat": 4,
  "nbformat_minor": 0,
  "metadata": {
    "colab": {
      "name": "Numerical_Optimization_HW2",
      "provenance": [],
      "authorship_tag": "ABX9TyOTzCYH6E9wTQA5xNKbKSdi",
      "include_colab_link": true
    },
    "kernelspec": {
      "name": "python3",
      "display_name": "Python 3"
    },
    "language_info": {
      "name": "python"
    }
  },
  "cells": [
    {
      "cell_type": "markdown",
      "metadata": {
        "id": "view-in-github",
        "colab_type": "text"
      },
      "source": [
        "<a href=\"https://colab.research.google.com/github/jihunni/numerical_optimization/blob/main/Numerical_Optimization_HW2.ipynb\" target=\"_parent\"><img src=\"https://colab.research.google.com/assets/colab-badge.svg\" alt=\"Open In Colab\"/></a>"
      ]
    },
    {
      "cell_type": "markdown",
      "metadata": {
        "id": "KBG-hUAE7LVq"
      },
      "source": [
        "# Seeking initial bound\n",
        "Assume function f(x) is a unimodal funciton."
      ]
    },
    {
      "cell_type": "code",
      "metadata": {
        "id": "fgxE9v0X7Feu"
      },
      "source": [
        "def seeking_bound(unimodal_function, initial_point_range=50, step_size=5, PRINT=False):\n",
        "  '''\n",
        "  input\n",
        "  - initial_point_range : [float] random initial range (i.e. - abs(initial_point_range) <= x_0 < - abs(initial_point_range) )\n",
        "  - step_size : [positive float] step size\n",
        "  --------------------------------\n",
        "  output\n",
        "  - a : [float]\n",
        "  - b : [float]\n",
        "  - num_iteration : [integer]\n",
        "  - time : [float]\n",
        "  '''\n",
        "  \n",
        "  print('seeking initial bound')\n",
        "  #set parameter to meausre the performance\n",
        "  import time\n",
        "  num_iteration = 0\n",
        "  start_time = time.time()\n",
        "\n",
        "  #import library to draw \n",
        "  import matplotlib.pyplot as plt\n",
        "\n",
        "  #check parameter\n",
        "  if (step_size <= 0):\n",
        "    print(\"ERROR : check step_size\")\n",
        "\n",
        "  # select random initial point x_0\n",
        "  import random\n",
        "  x_0 = random.random() * initial_point_range\n",
        "  print('initial point : ', x_0)\n",
        "\n",
        "  # set step size\n",
        "  d_0 = step_size\n",
        "\n",
        "  # evaluate function f\n",
        "  f_minus = unimodal_function(x_0 - step_size)\n",
        "  f = unimodal_function(x_0)\n",
        "  f_plus = unimodal_function(x_0 + step_size)\n",
        "\n",
        "  if (f_minus >= f and f >= f_plus):\n",
        "    # set parameter\n",
        "    d = d_0\n",
        "    x_1 = x_0 - d_0\n",
        "    x_2 = x_0\n",
        "    x_3 = x_0 + d_0\n",
        "    if (PRINT) : print(\"type 1\")\n",
        "    #iteration\n",
        "    while(True):\n",
        "      num_iteration += 1\n",
        "      x_1 = x_2\n",
        "      x_2 = x_3\n",
        "      x_3 = x_2 + d * 2 ** num_iteration\n",
        "\n",
        "      if(unimodal_function(x_3) >= unimodal_function(x_2)):\n",
        "        break\n",
        "    \n",
        "    end_time = time.time()\n",
        "    plt.plot(range(int(x_1)-1, int(x_3)+1), [unimodal_function(k) for k in range(int(x_1)-1, int(x_3)+1)]) #draw plot (validation)\n",
        "    print('x_1: ', x_1, '\\tx_3: ', x_3, '\\tnum_iteration: ',num_iteration, '\\ttime: ',time.time() - start_time)\n",
        "    print('f(x_2) : ', unimodal_function(x_2), '\\tf(x_3) : ', unimodal_function(x_3))\n",
        "    return x_1, x_3,num_iteration, end_time - start_time\n",
        "\n",
        "  elif (f_minus <= f and f <= f_plus):\n",
        "    # set parameter\n",
        "    d = -d_0\n",
        "    x_1 = x_0 + d_0\n",
        "    x_2 = x_0\n",
        "    x_3 = x_0 - d_0\n",
        "    if (PRINT) : print(\"type 2\")\n",
        "    #iteration\n",
        "    while(True):\n",
        "      num_iteration += 1\n",
        "      x_1 = x_2\n",
        "      x_2 = x_3\n",
        "      x_3 = x_2 + d * 2 ** num_iteration\n",
        "\n",
        "      if(unimodal_function(x_3) >= unimodal_function(x_2)):\n",
        "        break\n",
        "    end_time = time.time()\n",
        "    plt.plot(range(int(x_3)-1, int(x_1)+1), [unimodal_function(k) for k in range(int(x_3)-1, int(x_1)+1)]) #draw plot (validation)\n",
        "    print('x_1: ', x_3, '\\tx_3: ', x_1, '\\tnum_iteration: ',num_iteration, '\\ttime: ', end_time - start_time) \n",
        "      #x_1 and x_2 are interchanged to place in the order\n",
        "    print('f(x_2) : ', unimodal_function(x_2), '\\tf(x_3) : ', unimodal_function(x_3))\n",
        "    return x_3, x_1, num_iteration, time.time() - start_time     \n",
        "\n",
        "  elif (f_minus >= f and f <= f_plus) : \n",
        "    end_time = time.time()\n",
        "    #print('f(x_2) : ', unimodal_function(x_2), '\\tf(x_3) : ', unimodal_function(x_3))\n",
        "    if PRINT : print(\"type 3\")\n",
        "    plt.plot(range(int(x_0 - step_size)-1, int(x_0 + step_size)+1), [unimodal_function(k) for k in range(int(x_0 - step_size)-1, int(x_0 + step_size)+1)]) #draw plot (validation)\n",
        "    print('x_1: ', x_0 - step_size, '\\tx_3: ', x_0 + step_size, '\\tnum_iteration: ', num_iteration, '\\ttime: ',time.time() - start_time)\n",
        "    return x_0 - step_size, x_0 + step_size, num_iteration, end_time - start_time\n",
        "\n",
        "  else:\n",
        "    print(\"ERROR! check range\")\n"
      ],
      "execution_count": null,
      "outputs": []
    },
    {
      "cell_type": "markdown",
      "metadata": {
        "id": "8XAoCp_3QxXZ"
      },
      "source": [
        "example"
      ]
    },
    {
      "cell_type": "code",
      "metadata": {
        "id": "9G5qQA47ECWt"
      },
      "source": [
        "def function_1(x):\n",
        "  return 32312 * (x-3.15) * (x+17.15) * (x+100000)"
      ],
      "execution_count": null,
      "outputs": []
    },
    {
      "cell_type": "code",
      "metadata": {
        "colab": {
          "base_uri": "https://localhost:8080/",
          "height": 367
        },
        "id": "yv4RbD6hEDh0",
        "outputId": "f4568832-9b78-40cb-f15f-ecc9c82d36fe"
      },
      "source": [
        "seeking_bound(function_1)"
      ],
      "execution_count": null,
      "outputs": [
        {
          "output_type": "stream",
          "name": "stdout",
          "text": [
            "seeking initial bound\n",
            "initial point :  13.343481193756363\n",
            "x_1:  -21.65651880624364 \tx_3:  8.343481193756363 \tnum_iteration:  2 \ttime:  0.0011951923370361328\n",
            "f(x_2) :  -240622536831.1443 \tf(x_3) :  361140992306.3588\n"
          ]
        },
        {
          "output_type": "execute_result",
          "data": {
            "text/plain": [
              "(-21.65651880624364, 8.343481193756363, 2, 0.031032800674438477)"
            ]
          },
          "metadata": {},
          "execution_count": 7
        },
        {
          "output_type": "display_data",
          "data": {
            "image/png": "[encoded data removed]",
            "text/plain": [
              "<Figure size 432x288 with 1 Axes>"
            ]
          },
          "metadata": {
            "needs_background": "light"
          }
        }
      ]
    },
    {
      "cell_type": "code",
      "metadata": {
        "colab": {
          "base_uri": "https://localhost:8080/",
          "height": 295
        },
        "id": "ir5eZR6rEuTf",
        "outputId": "272a682b-eb19-4328-e3b9-945293090ce9"
      },
      "source": [
        "import matplotlib.pyplot as plt\n",
        "a = 20\n",
        "b = 40\n",
        "plt.plot(range(a,b), [function_1(k) for k in range(a,b)])"
      ],
      "execution_count": null,
      "outputs": [
        {
          "output_type": "execute_result",
          "data": {
            "text/plain": [
              "[<matplotlib.lines.Line2D at 0x7f844b461b50>]"
            ]
          },
          "metadata": {},
          "execution_count": 8
        },
        {
          "output_type": "display_data",
          "data": {
            "image/png": "[encoded data removed]",
            "text/plain": [
              "<Figure size 432x288 with 1 Axes>"
            ]
          },
          "metadata": {
            "needs_background": "light"
          }
        }
      ]
    },
    {
      "cell_type": "markdown",
      "metadata": {
        "id": "bG1HJt7QHV8z"
      },
      "source": [
        "# Fibonacci search"
      ]
    },
    {
      "cell_type": "code",
      "metadata": {
        "id": "9EwamdwYHdOO"
      },
      "source": [
        "def fibonacci_search(unimodal_function, a_input, b_input, num_iteration=30):\n",
        "  '''\n",
        "  input\n",
        "  - unimodal_function : [function]\n",
        "  - a_input : [float]\n",
        "  - b_input : [float] (a<b)\n",
        "  - num_iteration : [integer]\n",
        "  ------------\n",
        "  output\n",
        "  '''\n",
        "  print('fibonacci search')\n",
        "  # to measure time\n",
        "  import time\n",
        "  start_time = time.time()\n",
        "\n",
        "  # check\n",
        "  if(a_input >= b_input):\n",
        "    print(\"ERROR\")\n",
        "  \n",
        "  # to generate Fibonacci numbers\n",
        "  F = [0] * (num_iteration+1)\n",
        "  F[0] = 1\n",
        "  F[1] = 1\n",
        "  for k in range(2, num_iteration+1):\n",
        "    F[k] = F[k-1] + F[k-2]\n",
        "\n",
        "  # initial parameter for while loop\n",
        "  N = num_iteration\n",
        "  a = a_input\n",
        "  b = b_input\n",
        "\n",
        "  while(N != 1) :\n",
        "    # choose two interior points x_1 and x_2\n",
        "    x_1 = a + F[N-2]/F[N] * (b-a)\n",
        "    x_2 = b - F[N-2]/F[N] * (b-a)\n",
        "\n",
        "    #compute f(x_1) and f(x_2)\n",
        "    if (unimodal_function(x_1) >= unimodal_function(x_2)) :\n",
        "      a = x_1\n",
        "    if (unimodal_function(x_1) < unimodal_function(x_2)) :\n",
        "      b = x_2\n",
        "\n",
        "    # to update an iteration parameter\n",
        "    N -= 1\n",
        "  # to measure time\n",
        "  end_time = time.time()\n",
        "  final_length_of_interval = abs(1 / F[num_iteration] * (unimodal_function(b_input) - unimodal_function(a_input)))\n",
        "\n",
        "  # output\n",
        "  #print('\\ttime: ', end_time - start_time)\n",
        "  print(\"final length of interval : \", final_length_of_interval)\n",
        "  return a, b, end_time - start_time"
      ],
      "execution_count": null,
      "outputs": []
    },
    {
      "cell_type": "code",
      "metadata": {
        "id": "JRuEcXU3Kg9M"
      },
      "source": [
        "def fibonacci_search_with_seeking_bound(unimodal_function, num_iteration_search):\n",
        "  a, b, num_iteration_seek, time_seek = seeking_bound(unimodal_function)\n",
        "  a, b, time_search = fibonacci_search(unimodal_function, a, b, num_iteration_search)\n",
        "  return a, b, num_iteration_seek + num_iteration_search, time_seek + time_search"
      ],
      "execution_count": null,
      "outputs": []
    },
    {
      "cell_type": "markdown",
      "metadata": {
        "id": "Z20n3aWRQzXL"
      },
      "source": [
        "example"
      ]
    },
    {
      "cell_type": "code",
      "metadata": {
        "colab": {
          "base_uri": "https://localhost:8080/",
          "height": 404
        },
        "id": "gaM1a2AeM0PO",
        "outputId": "9922d17d-4c49-4448-d662-bef2d7c88b17"
      },
      "source": [
        "fibonacci_search_with_seeking_bound(function_1, 300)"
      ],
      "execution_count": null,
      "outputs": [
        {
          "output_type": "stream",
          "name": "stdout",
          "text": [
            "seeking initial bound\n",
            "initial point :  18.829509634347886\n",
            "x_1:  -56.170490365652114 \tx_3:  3.829509634347886 \tnum_iteration:  3 \ttime:  0.0008687973022460938\n",
            "f(x_2) :  -61139300248.87571 \tf(x_3) :  7475104726393.215\n",
            "fibonacci search\n",
            "final length of interval :  2.0660363844000059e-50\n"
          ]
        },
        {
          "output_type": "execute_result",
          "data": {
            "text/plain": [
              "(-6.999484802397934, -6.999484802397933, 303, 0.018329143524169922)"
            ]
          },
          "metadata": {},
          "execution_count": 21
        },
        {
          "output_type": "display_data",
          "data": {
            "image/png": "[encoded data removed]",
            "text/plain": [
              "<Figure size 432x288 with 1 Axes>"
            ]
          },
          "metadata": {
            "needs_background": "light"
          }
        }
      ]
    },
    {
      "cell_type": "markdown",
      "metadata": {
        "id": "VOaS_nUgHVxN"
      },
      "source": [
        "# Golden section search"
      ]
    },
    {
      "cell_type": "code",
      "metadata": {
        "id": "-zZuOmPYHeAi"
      },
      "source": [
        "def golden_section_search(unimodal_function, a_input, b_input, num_iteration=30):\n",
        "  '''\n",
        "  input\n",
        "  - unimodal_function : [function]\n",
        "  - a_input : [float]\n",
        "  - b_input : [float] (a<b)\n",
        "  - num_iteration : [integer]\n",
        "  ------------\n",
        "  output\n",
        "  '''\n",
        "  print('golden section search')\n",
        "  # to measure time\n",
        "  import time\n",
        "  start_time = time.time()\n",
        "\n",
        "  # golden section ratio, tau\n",
        "  import math\n",
        "  tau = (math.sqrt(5)-1)/2\n",
        "\n",
        "  # check\n",
        "  if(a_input >= b_input):\n",
        "    print(\"ERROR\")\n",
        "\n",
        "  # initial parameter for while loop\n",
        "  N = num_iteration\n",
        "  a = a_input\n",
        "  b = b_input\n",
        "\n",
        "  while(N != 1) :\n",
        "    # choose two interior points x_1 and x_2\n",
        "    x_1 = a + tau * (b-a)\n",
        "    x_2 = b - tau * (b-a)\n",
        "\n",
        "    #compute f(x_1) and f(x_2)\n",
        "    if (unimodal_function(x_1) >= unimodal_function(x_2)) :\n",
        "      a = x_1\n",
        "    if (unimodal_function(x_1) < unimodal_function(x_2)) :\n",
        "      b = x_2\n",
        "\n",
        "    # to update an iteration parameter\n",
        "    N -= 1\n",
        "  # to measure time\n",
        "  end_time = time.time()\n",
        "  final_length_of_interval = abs(tau ** (num_iteration-1) * (unimodal_function(b_input)-unimodal_function(a_input)))\n",
        "\n",
        "  # output\n",
        "  #print('\\ttime: ', end_time - start_time)\n",
        "  print(\"final length of interval : \", final_length_of_interval)\n",
        "  return a, b, end_time - start_time"
      ],
      "execution_count": null,
      "outputs": []
    },
    {
      "cell_type": "code",
      "metadata": {
        "id": "C6H7AK4ZSvkK"
      },
      "source": [
        "def golden_section_search_with_seeking_bound(unimodal_function, num_iteration_search):\n",
        "  a, b, num_iteration_seek, time_seek = seeking_bound(unimodal_function)\n",
        "  a, b, time_search = golden_section_search(unimodal_function, a, b, num_iteration_search)\n",
        "  return a, b, num_iteration_seek + num_iteration_search, time_seek + time_search"
      ],
      "execution_count": null,
      "outputs": []
    },
    {
      "cell_type": "markdown",
      "metadata": {
        "id": "QypR-Mi-cNnh"
      },
      "source": [
        "example"
      ]
    },
    {
      "cell_type": "code",
      "metadata": {
        "colab": {
          "base_uri": "https://localhost:8080/",
          "height": 404
        },
        "id": "6B_p7xEBS0qr",
        "outputId": "c7a2d34d-b7ee-4958-a90e-db89e9e721ee"
      },
      "source": [
        "#test\n",
        "golden_section_search_with_seeking_bound(function_1, 30)"
      ],
      "execution_count": null,
      "outputs": [
        {
          "output_type": "stream",
          "name": "stdout",
          "text": [
            "seeking initial bound\n",
            "initial point :  7.827186660616675\n",
            "x_1:  -27.172813339383325 \tx_3:  2.8271866606166753 \tnum_iteration:  2 \ttime:  6.532669067382812e-05\n",
            "f(x_2) :  -332765933596.8388 \tf(x_3) :  981759130415.3293\n",
            "fibonacci search\n",
            "final length of interval :  871936.8098715888\n"
          ]
        },
        {
          "output_type": "execute_result",
          "data": {
            "text/plain": [
              "(-27.172813339383325, -27.172813339360633, 32, 0.02166581153869629)"
            ]
          },
          "metadata": {},
          "execution_count": 24
        },
        {
          "output_type": "display_data",
          "data": {
            "image/png": "[encoded data removed]",
            "text/plain": [
              "<Figure size 432x288 with 1 Axes>"
            ]
          },
          "metadata": {
            "needs_background": "light"
          }
        }
      ]
    },
    {
      "cell_type": "markdown",
      "metadata": {
        "id": "vziP0FhKKx05"
      },
      "source": [
        "# Function"
      ]
    },
    {
      "cell_type": "markdown",
      "metadata": {
        "id": "ZPB6h95sK-Q6"
      },
      "source": [
        "# function_1\n",
        "Let's check whether algorithm works well, or not, with a easy polynomial  \n"
      ]
    },
    {
      "cell_type": "code",
      "metadata": {
        "id": "hjo6wN73SJ-7"
      },
      "source": [
        "def function_1(x):\n",
        "  return 2 * (x-3) **2 * (x-5)**2 "
      ],
      "execution_count": null,
      "outputs": []
    },
    {
      "cell_type": "code",
      "metadata": {
        "colab": {
          "base_uri": "https://localhost:8080/",
          "height": 295
        },
        "id": "g0XSgfh9Q7Q4",
        "outputId": "fb8318e9-97ba-4405-9608-bacf2ef2b174"
      },
      "source": [
        "x = range(-30,30,5)\n",
        "y = [function_1(k) for k in x]\n",
        "plt.plot(x, y)"
      ],
      "execution_count": null,
      "outputs": [
        {
          "output_type": "execute_result",
          "data": {
            "text/plain": [
              "[<matplotlib.lines.Line2D at 0x7f84467de210>]"
            ]
          },
          "metadata": {},
          "execution_count": 77
        },
        {
          "output_type": "display_data",
          "data": {
            "image/png": "[encoded data removed]",
            "text/plain": [
              "<Figure size 432x288 with 1 Axes>"
            ]
          },
          "metadata": {
            "needs_background": "light"
          }
        }
      ]
    },
    {
      "cell_type": "code",
      "metadata": {
        "colab": {
          "base_uri": "https://localhost:8080/",
          "height": 404
        },
        "id": "zW0eNzHwLHY0",
        "outputId": "57fa5efc-8840-4a59-8e6e-fb90603dea85"
      },
      "source": [
        "fibonacci_search_with_seeking_bound(function_1, 100)"
      ],
      "execution_count": null,
      "outputs": [
        {
          "output_type": "stream",
          "name": "stdout",
          "text": [
            "seeking initial bound\n",
            "initial point :  35.73811276618315\n",
            "x_1:  -39.26188723381685 \tx_3:  20.73811276618315 \tnum_iteration:  3 \ttime:  0.0007534027099609375\n",
            "f(x_2) :  185.8556650726641 \tf(x_3) :  6998220.533290478\n",
            "fibonacci search\n",
            "final length of interval :  1.1938202436095955e-14\n"
          ]
        },
        {
          "output_type": "execute_result",
          "data": {
            "text/plain": [
              "(3.000000000000001, 3.0000000000000013, 103, 0.02210235595703125)"
            ]
          },
          "metadata": {},
          "execution_count": 182
        },
        {
          "output_type": "display_data",
          "data": {
            "image/png": "[encoded data removed]",
            "text/plain": [
              "<Figure size 432x288 with 1 Axes>"
            ]
          },
          "metadata": {
            "needs_background": "light"
          }
        }
      ]
    },
    {
      "cell_type": "code",
      "metadata": {
        "colab": {
          "base_uri": "https://localhost:8080/",
          "height": 392
        },
        "id": "81vm7l1jLFEN",
        "outputId": "c09f08b1-e78f-4f03-c2cf-d447a87edb4d"
      },
      "source": [
        "golden_section_search_with_seeking_bound(function_1, 100)"
      ],
      "execution_count": null,
      "outputs": [
        {
          "output_type": "stream",
          "name": "stdout",
          "text": [
            "seeking initial bound\n",
            "initial point :  17.615776112713398\n",
            "x_1:  -17.384223887286602 \tx_3:  12.615776112713398 \tnum_iteration:  2 \ttime:  0.0003542900085449219\n",
            "f(x_2) :  1.6783896332562487 \tf(x_3) :  416392.0595067966\n",
            "golden section search\n",
            "final length of interval :  8.286909073073576e-16\n"
          ]
        },
        {
          "output_type": "execute_result",
          "data": {
            "text/plain": [
              "(-17.384223887286602, -17.384223887286602, 102, 0.02256917953491211)"
            ]
          },
          "metadata": {},
          "execution_count": 87
        },
        {
          "output_type": "display_data",
          "data": {
            "image/png": "[encoded data removed]",
            "text/plain": [
              "<Figure size 432x288 with 1 Axes>"
            ]
          },
          "metadata": {
            "needs_background": "light"
          }
        }
      ]
    },
    {
      "cell_type": "markdown",
      "metadata": {
        "id": "olulujjeMaE5"
      },
      "source": [
        "# function 2\n",
        "what if function is symmetric?"
      ]
    },
    {
      "cell_type": "code",
      "metadata": {
        "id": "L2YIv83MX0o5"
      },
      "source": [
        "def function_2(x) : \n",
        "    import numpy as np\n",
        "    return np.log(abs(x)) * np.cos(x) / np.exp(abs(x))"
      ],
      "execution_count": null,
      "outputs": []
    },
    {
      "cell_type": "code",
      "metadata": {
        "colab": {
          "base_uri": "https://localhost:8080/",
          "height": 319
        },
        "id": "Fu9upL3VX8-B",
        "outputId": "f879cd72-d06c-4bc1-e817-c1835b5a92de"
      },
      "source": [
        "x = range(-10,10,1)\n",
        "y = [function_2(k) for k in x]\n",
        "plt.plot(x, y)"
      ],
      "execution_count": null,
      "outputs": [
        {
          "output_type": "stream",
          "name": "stderr",
          "text": [
            "/usr/local/lib/python3.7/dist-packages/ipykernel_launcher.py:3: RuntimeWarning: divide by zero encountered in log\n",
            "  This is separate from the ipykernel package so we can avoid doing imports until\n"
          ]
        },
        {
          "output_type": "execute_result",
          "data": {
            "text/plain": [
              "[<matplotlib.lines.Line2D at 0x7f844624ca10>]"
            ]
          },
          "metadata": {},
          "execution_count": 139
        },
        {
          "output_type": "display_data",
          "data": {
            "image/png": "[encoded data removed]",
            "text/plain": [
              "<Figure size 432x288 with 1 Axes>"
            ]
          },
          "metadata": {
            "needs_background": "light"
          }
        }
      ]
    },
    {
      "cell_type": "code",
      "metadata": {
        "colab": {
          "base_uri": "https://localhost:8080/",
          "height": 428
        },
        "id": "cOfZZoC7Ntqa",
        "outputId": "7643cea6-ac51-4b7b-8647-67b33ab19efe"
      },
      "source": [
        "fibonacci_search_with_seeking_bound(function_2, 10)"
      ],
      "execution_count": null,
      "outputs": [
        {
          "output_type": "stream",
          "name": "stdout",
          "text": [
            "seeking initial bound\n",
            "initial point :  8.656471311947488\n",
            "x_1:  -6.343528688052512 \tx_3:  8.656471311947488 \tnum_iteration:  1 \ttime:  0.002432584762573242\n",
            "f(x_2) :  -0.029139486632809707 \tf(x_3) :  0.0032420411498499456\n",
            "fibonacci search\n",
            "final length of interval :  3.946165399081418e-05\n"
          ]
        },
        {
          "output_type": "stream",
          "name": "stderr",
          "text": [
            "/usr/local/lib/python3.7/dist-packages/ipykernel_launcher.py:3: RuntimeWarning: divide by zero encountered in log\n",
            "  This is separate from the ipykernel package so we can avoid doing imports until\n"
          ]
        },
        {
          "output_type": "execute_result",
          "data": {
            "text/plain": [
              "(0.06096569396995985, 0.22950501981265647, 11, 0.023118972778320312)"
            ]
          },
          "metadata": {},
          "execution_count": 178
        },
        {
          "output_type": "display_data",
          "data": {
            "image/png": "[encoded data removed]",
            "text/plain": [
              "<Figure size 432x288 with 1 Axes>"
            ]
          },
          "metadata": {
            "needs_background": "light"
          }
        }
      ]
    },
    {
      "cell_type": "code",
      "metadata": {
        "colab": {
          "base_uri": "https://localhost:8080/",
          "height": 410
        },
        "id": "YyflZo6jNyer",
        "outputId": "3629b590-4e78-455f-a19d-201ec043d74e"
      },
      "source": [
        "golden_section_search_with_seeking_bound(function_2, 10)"
      ],
      "execution_count": null,
      "outputs": [
        {
          "output_type": "stream",
          "name": "stdout",
          "text": [
            "seeking initial bound\n",
            "initial point :  0.8864201743239486\n",
            "x_1:  -4.113579825676052 \tx_3:  5.886420174323948 \tnum_iteration:  0 \ttime:  0.021157026290893555\n",
            "golden section search\n",
            "final length of interval :  0.0002311872510686923\n"
          ]
        },
        {
          "output_type": "stream",
          "name": "stderr",
          "text": [
            "/usr/local/lib/python3.7/dist-packages/ipykernel_launcher.py:3: RuntimeWarning: divide by zero encountered in log\n",
            "  This is separate from the ipykernel package so we can avoid doing imports until\n"
          ]
        },
        {
          "output_type": "execute_result",
          "data": {
            "text/plain": [
              "(5.540270934120495, 5.542001636837618, 10, 0.0003006458282470703)"
            ]
          },
          "metadata": {},
          "execution_count": 181
        },
        {
          "output_type": "display_data",
          "data": {
            "image/png": "[encoded data removed]",
            "text/plain": [
              "<Figure size 432x288 with 1 Axes>"
            ]
          },
          "metadata": {
            "needs_background": "light"
          }
        }
      ]
    },
    {
      "cell_type": "markdown",
      "metadata": {
        "id": "3d3R-kkyMgnD"
      },
      "source": [
        "# function 3\n",
        "f(x) = - exp(x) * cos(x)  \n",
        "A function has one global minima"
      ]
    },
    {
      "cell_type": "code",
      "metadata": {
        "id": "G8tK077pMxnP"
      },
      "source": [
        "def function_3(x) : \n",
        "  import numpy as np\n",
        "  return np.exp(x) * np.cos(x)"
      ],
      "execution_count": null,
      "outputs": []
    },
    {
      "cell_type": "code",
      "metadata": {
        "colab": {
          "base_uri": "https://localhost:8080/",
          "height": 283
        },
        "id": "BXOp_W2Aapi5",
        "outputId": "d8c5eba6-0dff-4c45-8f30-949d6104a327"
      },
      "source": [
        "x = range(-10,10,1)\n",
        "y = [-function_3(k) for k in x]\n",
        "plt.plot(x, y)"
      ],
      "execution_count": null,
      "outputs": [
        {
          "output_type": "execute_result",
          "data": {
            "text/plain": [
              "[<matplotlib.lines.Line2D at 0x7f8445a8ac90>]"
            ]
          },
          "metadata": {},
          "execution_count": 184
        },
        {
          "output_type": "display_data",
          "data": {
            "image/png": "[encoded data removed]",
            "text/plain": [
              "<Figure size 432x288 with 1 Axes>"
            ]
          },
          "metadata": {
            "needs_background": "light"
          }
        }
      ]
    },
    {
      "cell_type": "code",
      "metadata": {
        "colab": {
          "base_uri": "https://localhost:8080/",
          "height": 404
        },
        "id": "Fz_9JbI-Nu7s",
        "outputId": "54ed8d8d-47c6-43bd-824b-89cd94424fed"
      },
      "source": [
        "fibonacci_search_with_seeking_bound(function_3, 110)"
      ],
      "execution_count": null,
      "outputs": [
        {
          "output_type": "stream",
          "name": "stdout",
          "text": [
            "seeking initial bound\n",
            "initial point :  34.819039078260104\n",
            "x_1:  34.819039078260104 \tx_3:  49.819039078260104 \tnum_iteration:  1 \ttime:  0.019562959671020508\n",
            "f(x_2) :  -1.025214196380635e+17 \tf(x_3) :  3.9024264204459814e+21\n",
            "fibonacci search\n",
            "final length of interval :  0.05535945423740337\n"
          ]
        },
        {
          "output_type": "execute_result",
          "data": {
            "text/plain": [
              "(41.62610266843683, 41.62610266843683, 111, 0.002497434616088867)"
            ]
          },
          "metadata": {},
          "execution_count": 186
        },
        {
          "output_type": "display_data",
          "data": {
            "image/png": "[encoded data removed]",
            "text/plain": [
              "<Figure size 432x288 with 1 Axes>"
            ]
          },
          "metadata": {
            "needs_background": "light"
          }
        }
      ]
    },
    {
      "cell_type": "code",
      "metadata": {
        "colab": {
          "base_uri": "https://localhost:8080/",
          "height": 404
        },
        "id": "FiiAXE51Nzm8",
        "outputId": "842182bc-e667-42fc-ea77-9ebe726449a1"
      },
      "source": [
        "golden_section_search_with_seeking_bound(function_3, 100)"
      ],
      "execution_count": null,
      "outputs": [
        {
          "output_type": "stream",
          "name": "stdout",
          "text": [
            "seeking initial bound\n",
            "initial point :  45.266778092081495\n",
            "x_1:  30.266778092081495 \tx_3:  45.266778092081495 \tnum_iteration:  1 \ttime:  0.00011277198791503906\n",
            "f(x_2) :  -2.5810880567154694e+17 \tf(x_3) :  5710824997051.253\n",
            "golden section search\n",
            "final length of interval :  0.026316618879184715\n"
          ]
        },
        {
          "output_type": "execute_result",
          "data": {
            "text/plain": [
              "(32.21133003566273, 32.21133003566273, 101, 0.023107290267944336)"
            ]
          },
          "metadata": {},
          "execution_count": 187
        },
        {
          "output_type": "display_data",
          "data": {
            "image/png": "[encoded data removed]",
            "text/plain": [
              "<Figure size 432x288 with 1 Axes>"
            ]
          },
          "metadata": {
            "needs_background": "light"
          }
        }
      ]
    },
    {
      "cell_type": "markdown",
      "metadata": {
        "id": "m60PBHz_NmJf"
      },
      "source": [
        "# function 4\n",
        "What if there is no root in a function?  \n",
        "f(x) = exp(x)  \n",
        "root does not exist  "
      ]
    },
    {
      "cell_type": "code",
      "metadata": {
        "id": "cpltqwVPNlyM"
      },
      "source": [
        "def function_4(x) : \n",
        "  import numpy as np\n",
        "  return np.exp(x)"
      ],
      "execution_count": null,
      "outputs": []
    },
    {
      "cell_type": "code",
      "metadata": {
        "colab": {
          "base_uri": "https://localhost:8080/",
          "height": 404
        },
        "id": "HyRx4Os0Nvps",
        "outputId": "715008bf-786c-4d98-902c-33df7ee590f6"
      },
      "source": [
        "fibonacci_search_with_seeking_bound(function_4, 101)"
      ],
      "execution_count": null,
      "outputs": [
        {
          "output_type": "stream",
          "name": "stdout",
          "text": [
            "seeking initial bound\n",
            "initial point :  25.151618569222205\n",
            "x_1:  -2529.848381430778 \tx_3:  -609.8483814307779 \tnum_iteration:  8 \ttime:  0.0012395381927490234\n",
            "f(x_2) :  0.0 \tf(x_3) :  0.0\n",
            "fibonacci search\n",
            "final length of interval :  1.509937056705011e-286\n"
          ]
        },
        {
          "output_type": "execute_result",
          "data": {
            "text/plain": [
              "(-745.1332191019412, -745.1332191019411, 109, 0.026900053024291992)"
            ]
          },
          "metadata": {},
          "execution_count": 90
        },
        {
          "output_type": "display_data",
          "data": {
            "image/png": "[encoded data removed]",
            "text/plain": [
              "<Figure size 432x288 with 1 Axes>"
            ]
          },
          "metadata": {
            "needs_background": "light"
          }
        }
      ]
    },
    {
      "cell_type": "code",
      "metadata": {
        "colab": {
          "base_uri": "https://localhost:8080/",
          "height": 404
        },
        "id": "UjxRuaSUN0W4",
        "outputId": "0a714a95-ef71-4bab-8f05-f63fb6d35ab7"
      },
      "source": [
        "golden_section_search_with_seeking_bound(function_4, 100)"
      ],
      "execution_count": null,
      "outputs": [
        {
          "output_type": "stream",
          "name": "stdout",
          "text": [
            "seeking initial bound\n",
            "initial point :  34.96586501766429\n",
            "x_1:  -2520.0341349823357 \tx_3:  -600.0341349823357 \tnum_iteration:  8 \ttime:  0.0009326934814453125\n",
            "f(x_2) :  0.0 \tf(x_3) :  0.0\n",
            "golden section search\n",
            "final length of interval :  5.232507250923378e-282\n"
          ]
        },
        {
          "output_type": "execute_result",
          "data": {
            "text/plain": [
              "(-600.0341349823357, -600.0341349823357, 108, 0.022692203521728516)"
            ]
          },
          "metadata": {},
          "execution_count": 91
        },
        {
          "output_type": "display_data",
          "data": {
            "image/png": "[encoded data removed]",
            "text/plain": [
              "<Figure size 432x288 with 1 Axes>"
            ]
          },
          "metadata": {
            "needs_background": "light"
          }
        }
      ]
    },
    {
      "cell_type": "markdown",
      "metadata": {
        "id": "CCxEStMYTIiL"
      },
      "source": [
        "# conclusion\n",
        "- Fibonacci search and Golden section search is the method for finding local minimun. If an input interval of each serach has multiple local optimum point, each method can converge into different local mininum. The local optimum to converge is determined by initial point. (check Function_1)\n",
        "- Generally, Golden section search has more smaller output interval and shorter running time than Fibonacci search. (check Function 1 and Function 3). But it is not true in case of samll iteration. (check Function 2)\n",
        "- If increasing function is given to interval seek search algorithm, Fibonacci search and Golden section search algorithm, then the algorithm onputs non-sensible results such as the end point that computer caculates. It implies that property and character of an input function is crucial. (check Function_4)\n"
      ]
    }
  ]
}