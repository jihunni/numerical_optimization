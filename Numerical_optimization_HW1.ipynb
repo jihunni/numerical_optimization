{
  "nbformat": 4,
  "nbformat_minor": 0,
  "metadata": {
    "colab": {
      "name": "Numerical_optimization_HW1.ipynb",
      "provenance": [],
      "authorship_tag": "ABX9TyNtgtoqSaUzL0WseB+BAIuZ",
      "include_colab_link": true
    },
    "kernelspec": {
      "name": "python3",
      "display_name": "Python 3"
    },
    "language_info": {
      "name": "python"
    }
  },
  "cells": [
    {
      "cell_type": "markdown",
      "metadata": {
        "id": "view-in-github",
        "colab_type": "text"
      },
      "source": [
        "<a href=\"https://colab.research.google.com/github/jihunni/numerical_optimization/blob/main/Numerical_optimization_HW1.ipynb\" target=\"_parent\"><img src=\"https://colab.research.google.com/assets/colab-badge.svg\" alt=\"Open In Colab\"/></a>"
      ]
    },
    {
      "cell_type": "markdown",
      "metadata": {
        "id": "RO2pFJ5hV34W"
      },
      "source": [
        "# optimization algorithm"
      ]
    },
    {
      "cell_type": "code",
      "metadata": {
        "id": "iK-q5YOFfkcB"
      },
      "source": [
        "def method_of_bisection(optimization_function, start, end, tolerance=0.0000001, PRINT = False):\n",
        "  '''\n",
        "  input:\n",
        "  optimization_function : [function] the function defined previously. \n",
        "            e.g. def f(x):\n",
        "                  return (x-1)**2 -1\n",
        "  start, end    : [numerical value] starting point and ending point for optimization.  \n",
        "  tolerance : [numerical value] tolerance  \n",
        "  PRINT : [boolean] Print option; True means printing. False means no printing\n",
        "  -----------------\n",
        "  output: [numerical value] \n",
        "  '''\n",
        "  \n",
        "  #initial parameter\n",
        "  iteration = 0\n",
        "  condition = True\n",
        "  a = start\n",
        "  b = end\n",
        "  while(condition): \n",
        "    mid = (a+b)/2\n",
        "\n",
        "    if (optimization_function(a) * optimization_function(mid) < 0):\n",
        "      b = mid\n",
        "    else:\n",
        "      a = mid\n",
        "    \n",
        "    # iteration\n",
        "    iteration += 1\n",
        "    if (PRINT) : print('iteration: ', iteration, '\\t\\t mid = ', mid, '\\t\\t b-a = ', b-a)\n",
        "    \n",
        "    #termination condition\n",
        "    if(optimization_function(mid) == 0 or b-a < tolerance): \n",
        "      condition = False\n",
        "      return mid"
      ],
      "execution_count": null,
      "outputs": []
    },
    {
      "cell_type": "code",
      "metadata": {
        "id": "DWUQjI5nkvOT"
      },
      "source": [
        "def newtons_method(optimization_function, num_iteration, initial, PRINT = False) :\n",
        "  #import library for derivative\n",
        "  import scipy\n",
        "  from scipy.misc import derivative\n",
        "\n",
        "  #initialization\n",
        "  x = initial\n",
        "\n",
        "  #Netwon's method\n",
        "  for i in range(num_iteration):\n",
        "    x = x - optimization_function(x)/derivative(optimization_function, x, dx=1e-8)\n",
        "\n",
        "  if (PRINT):\n",
        "    print(\"iteration: \", i)\n",
        "  return x"
      ],
      "execution_count": null,
      "outputs": []
    },
    {
      "cell_type": "code",
      "metadata": {
        "id": "si4g0wM9k83m"
      },
      "source": [
        "def secant_method(optimization_function, num_iteration, initial_1, initial_2, PRINT=False) :\n",
        "  '''\n",
        "  (x_1, x_2) : x_1 means a previous point, x_2 means a current point\n",
        "  '''\n",
        "\n",
        "  #initialization\n",
        "  x_1 = initial_1\n",
        "  x_2 = initial_2\n",
        "\n",
        "  for i in range(num_iteration):\n",
        "    \n",
        "    denominator = (optimization_function(x_2)-optimization_function(x_1))\n",
        "    #to escape 'ZeroDivisionError: float division by zero'\n",
        "    #if (denominator < 1.420308003724366e-100) :\n",
        "    #   return (x_1 + x_2)/2\n",
        "    if (x_2 == x_1):\n",
        "      return x_2\n",
        "    \n",
        "    temp = x_2 - (x_2 - x_1) / denominator * optimization_function(x_2)\n",
        "\n",
        "    #update\n",
        "    x_1 = x_2\n",
        "    x_2 = temp\n",
        "\n",
        "    if PRINT: \n",
        "      print(\"iteration: \", i, \"\\t x_1: \", x_1,\"\\t x_2: \", x_2, \"\\t denominator: \", denominator)\n",
        "\n",
        "\n",
        "  return (x_2)\n"
      ],
      "execution_count": null,
      "outputs": []
    },
    {
      "cell_type": "code",
      "metadata": {
        "id": "UGv_TFhxlEfD"
      },
      "source": [
        "def regula_falsi_method(optimization_function, start, end, tolerance=0.0000001, iteration_limit=1000, PRINT = False) :\n",
        "  '''\n",
        "  input:\n",
        "  optimization_function : [function] the function defined previously. \n",
        "            e.g. def f(x):\n",
        "                  return (x-1)**2 -1\n",
        "  start, end    : [numerical value] starting point and ending point for optimization ; start < end\n",
        "  tolerance : [numerical value] tolerance  \n",
        "  PRINT : [boolean] Print option; True means printing. False means no printing\n",
        "  -----------------\n",
        "  output: [numerical value] \n",
        "  '''\n",
        "\n",
        "  #initial parameter\n",
        "  iteration = 0\n",
        "  condition = True\n",
        "  a = start\n",
        "  b = end\n",
        "  while(condition): \n",
        "    mid = a - (b - a) / (optimization_function(b)-optimization_function(a)) * (-1) * optimization_function(a)\n",
        "    if (optimization_function(a) * optimization_function(mid) < 0):\n",
        "      b = mid\n",
        "    else:\n",
        "      a = mid\n",
        "    \n",
        "    # iteration\n",
        "    iteration += 1\n",
        "    if (PRINT) : print('iteration: ', iteration, '\\t\\t mid = ', mid, '\\t\\t b-a = ', b-a)\n",
        "    \n",
        "    #termination condition\n",
        "    if(optimization_function(mid) == 0 or b-a < tolerance or a == b or iteration > iteration_limit): \n",
        "      condition = False\n",
        "      return mid"
      ],
      "execution_count": null,
      "outputs": []
    },
    {
      "cell_type": "markdown",
      "metadata": {
        "id": "Fn3N8S0-Fgeb"
      },
      "source": [
        "# function_1\n",
        "Let's check whether algorithm works well, or not, with a easy polynomial  \n",
        "f(x) = 32312 * (x-3.15) * (x+17.15) * (x+100000)  \n",
        "root = {-100000, -17.15, 3.15}  "
      ]
    },
    {
      "cell_type": "code",
      "metadata": {
        "id": "S7qxVYPKEZ2h"
      },
      "source": [
        "def function_1(x):\n",
        "  return 32312 * (x-3.15) * (x+17.15) * (x+100000)"
      ],
      "execution_count": null,
      "outputs": []
    },
    {
      "cell_type": "code",
      "metadata": {
        "colab": {
          "base_uri": "https://localhost:8080/"
        },
        "id": "p5fsMntgGo0J",
        "outputId": "7b3f91d5-6053-40e5-a2ed-d6be39565478"
      },
      "source": [
        "import time\n",
        "time.time()"
      ],
      "execution_count": null,
      "outputs": [
        {
          "output_type": "execute_result",
          "data": {
            "text/plain": [
              "1631623558.6786642"
            ]
          },
          "metadata": {},
          "execution_count": 8
        }
      ]
    },
    {
      "cell_type": "markdown",
      "metadata": {
        "id": "_w_2jQKEFjJ0"
      },
      "source": [
        "method of bisection"
      ]
    },
    {
      "cell_type": "code",
      "metadata": {
        "colab": {
          "base_uri": "https://localhost:8080/"
        },
        "id": "H-_1wsCzkGHQ",
        "outputId": "8df970cb-f673-4c41-a395-a8c53c1aac95"
      },
      "source": [
        "start = time.time()\n",
        "result = method_of_bisection(function_1, 0, 300000, 0.0000001)\n",
        "end = time.time()\n",
        "\n",
        "print(\"the result : \", result) # sucessfuly find root!\n",
        "print(\"time : \", end-start)"
      ],
      "execution_count": null,
      "outputs": [
        {
          "output_type": "stream",
          "name": "stdout",
          "text": [
            "the result :  3.1500000432060915\n",
            "time :  0.00016379356384277344\n"
          ]
        }
      ]
    },
    {
      "cell_type": "code",
      "metadata": {
        "colab": {
          "base_uri": "https://localhost:8080/"
        },
        "id": "5z2TOwhakIqF",
        "outputId": "30f0aa79-8420-4af7-bd25-3d1e4c9adc3f"
      },
      "source": [
        "function_1(3.1500000432060915) #it requires more accuracy"
      ],
      "execution_count": null,
      "outputs": [
        {
          "output_type": "execute_result",
          "data": {
            "text/plain": [
              "2834.1219981403506"
            ]
          },
          "metadata": {},
          "execution_count": 51
        }
      ]
    },
    {
      "cell_type": "code",
      "metadata": {
        "colab": {
          "base_uri": "https://localhost:8080/"
        },
        "id": "WOoYO7m-FGi1",
        "outputId": "978cc367-60bf-4574-98e8-f5c2e247f34b"
      },
      "source": [
        "start = time.time()\n",
        "result = method_of_bisection(function_1, 0, 300000, 0.00000000001)\n",
        "end = time.time()\n",
        "\n",
        "print(\"the result : \", result) # sucessfuly find root!\n",
        "print(\"time : \", end-start)"
      ],
      "execution_count": null,
      "outputs": [
        {
          "output_type": "stream",
          "name": "stdout",
          "text": [
            "the result :  3.149999999998987\n",
            "time :  0.00018334388732910156\n"
          ]
        }
      ]
    },
    {
      "cell_type": "code",
      "metadata": {
        "colab": {
          "base_uri": "https://localhost:8080/"
        },
        "id": "fqTfmz61jhHD",
        "outputId": "5538d2ee-1564-49b0-f713-db1e785e9759"
      },
      "source": [
        "function_1(3.149999999998987)"
      ],
      "execution_count": null,
      "outputs": [
        {
          "output_type": "execute_result",
          "data": {
            "text/plain": [
              "-0.06644603407104313"
            ]
          },
          "metadata": {},
          "execution_count": 41
        }
      ]
    },
    {
      "cell_type": "code",
      "metadata": {
        "colab": {
          "base_uri": "https://localhost:8080/"
        },
        "id": "LFbwSGx3FR6i",
        "outputId": "eece9b38-5378-4e63-c516-281d6a8edb23"
      },
      "source": [
        "start = time.time()\n",
        "result = method_of_bisection(function_1, -45210, 00, 0.00000000001)\n",
        "end = time.time()\n",
        "\n",
        "print(\"the result : \", result) # sucessfuly find root!\n",
        "print(\"time : \", end-start)"
      ],
      "execution_count": null,
      "outputs": [
        {
          "output_type": "stream",
          "name": "stdout",
          "text": [
            "the result :  -17.150000000001\n",
            "time :  0.00010085105895996094\n"
          ]
        }
      ]
    },
    {
      "cell_type": "code",
      "metadata": {
        "colab": {
          "base_uri": "https://localhost:8080/"
        },
        "id": "Augm5alajs1S",
        "outputId": "8512d482-429d-4222-aea8-7a826c7f1169"
      },
      "source": [
        "function_1(-17.150000000001)"
      ],
      "execution_count": null,
      "outputs": [
        {
          "output_type": "execute_result",
          "data": {
            "text/plain": [
              "0.06570443825755216"
            ]
          },
          "metadata": {},
          "execution_count": 44
        }
      ]
    },
    {
      "cell_type": "code",
      "metadata": {
        "colab": {
          "base_uri": "https://localhost:8080/"
        },
        "id": "xrh0uqnwFKvV",
        "outputId": "58ee47f7-1589-48a8-eaa9-7d5afbd19b06"
      },
      "source": [
        "start = time.time()\n",
        "result = method_of_bisection(function_1, -40, 30, 0.00000000001)\n",
        "end = time.time()\n",
        "\n",
        "print(\"the result : \", result) # sucessfuly find root!\n",
        "print(\"time : \", end-start)"
      ],
      "execution_count": null,
      "outputs": [
        {
          "output_type": "stream",
          "name": "stdout",
          "text": [
            "the result :  -17.149999999993497\n",
            "time :  0.00010442733764648438\n"
          ]
        }
      ]
    },
    {
      "cell_type": "code",
      "metadata": {
        "colab": {
          "base_uri": "https://localhost:8080/"
        },
        "id": "aXT7BkvFj3Uh",
        "outputId": "59785e62-611b-4592-bca5-9f4ebf2d9846"
      },
      "source": [
        "function_1(-17.149999999993497)"
      ],
      "execution_count": null,
      "outputs": [
        {
          "output_type": "execute_result",
          "data": {
            "text/plain": [
              "-0.42637986528821287"
            ]
          },
          "metadata": {},
          "execution_count": 144
        }
      ]
    },
    {
      "cell_type": "markdown",
      "metadata": {
        "id": "1SRJAz1FFmUY"
      },
      "source": [
        "Newton's method"
      ]
    },
    {
      "cell_type": "code",
      "metadata": {
        "colab": {
          "base_uri": "https://localhost:8080/"
        },
        "id": "KQcVYqzbGIQW",
        "outputId": "f12dfbc6-337b-4364-d90c-b3c7cda85e9a"
      },
      "source": [
        "start = time.time()\n",
        "result = newtons_method(function_1, 100000, 3, PRINT=True)\n",
        "end = time.time()\n",
        "\n",
        "print(\"the result : \", result)\n",
        "print(\"time : \", end-start)"
      ],
      "execution_count": null,
      "outputs": [
        {
          "output_type": "stream",
          "name": "stdout",
          "text": [
            "iteration:  99999\n",
            "the result :  3.15\n",
            "time :  3.134620428085327\n"
          ]
        }
      ]
    },
    {
      "cell_type": "code",
      "metadata": {
        "colab": {
          "base_uri": "https://localhost:8080/"
        },
        "id": "7JvMu9hlj8dO",
        "outputId": "826e1a68-6131-47e5-c61b-331bc756e89d"
      },
      "source": [
        "function_1(3.15) # sucessfuly find root!"
      ],
      "execution_count": null,
      "outputs": [
        {
          "output_type": "execute_result",
          "data": {
            "text/plain": [
              "0.0"
            ]
          },
          "metadata": {},
          "execution_count": 47
        }
      ]
    },
    {
      "cell_type": "code",
      "metadata": {
        "colab": {
          "base_uri": "https://localhost:8080/"
        },
        "id": "auvMiA8IGMcT",
        "outputId": "7281ffe5-98a0-42db-bde5-c67099764476"
      },
      "source": [
        "start = time.time()\n",
        "result = newtons_method(function_1, 100000, -300, PRINT=True)\n",
        "end = time.time()\n",
        "\n",
        "print(\"the result : \", result)\n",
        "print(\"time : \", end-start)"
      ],
      "execution_count": null,
      "outputs": [
        {
          "output_type": "stream",
          "name": "stdout",
          "text": [
            "iteration:  99999\n",
            "the result :  -17.15\n",
            "time :  2.86554217338562\n"
          ]
        }
      ]
    },
    {
      "cell_type": "code",
      "metadata": {
        "colab": {
          "base_uri": "https://localhost:8080/"
        },
        "id": "v5L2ihwTj_UB",
        "outputId": "8218b71d-168b-4502-9d3c-7ccdc38b6880"
      },
      "source": [
        "function_1(-17.15) # sucessfuly find root!"
      ],
      "execution_count": null,
      "outputs": [
        {
          "output_type": "execute_result",
          "data": {
            "text/plain": [
              "-0.0"
            ]
          },
          "metadata": {},
          "execution_count": 48
        }
      ]
    },
    {
      "cell_type": "code",
      "metadata": {
        "colab": {
          "base_uri": "https://localhost:8080/"
        },
        "id": "swZLz4_xHikp",
        "outputId": "8be5fdcc-aae0-46ed-ff68-f9c5d4a3970d"
      },
      "source": [
        "start = time.time()\n",
        "result = newtons_method(function_1, 10000000, -300)\n",
        "end = time.time()\n",
        "\n",
        "print(\"the result : \", result)\n",
        "print(\"time : \", end-start)"
      ],
      "execution_count": null,
      "outputs": [
        {
          "output_type": "stream",
          "name": "stdout",
          "text": [
            "the result :  -17.15\n",
            "time :  325.5945646762848\n"
          ]
        }
      ]
    },
    {
      "cell_type": "code",
      "metadata": {
        "colab": {
          "base_uri": "https://localhost:8080/"
        },
        "id": "a5fas0k_kCgr",
        "outputId": "aed1af28-719b-4f74-87f1-7453ef7a6910"
      },
      "source": [
        "function_1(-17.15) # sucessfuly find root!"
      ],
      "execution_count": null,
      "outputs": [
        {
          "output_type": "execute_result",
          "data": {
            "text/plain": [
              "-0.0"
            ]
          },
          "metadata": {},
          "execution_count": 49
        }
      ]
    },
    {
      "cell_type": "markdown",
      "metadata": {
        "id": "HepAzKL8HuPn"
      },
      "source": [
        "Secant method"
      ]
    },
    {
      "cell_type": "code",
      "metadata": {
        "id": "Rw88w9yeHwWQ",
        "colab": {
          "base_uri": "https://localhost:8080/"
        },
        "outputId": "3535b19b-cfd3-48bf-d0fe-24045cf7bdff"
      },
      "source": [
        "start = time.time()\n",
        "result = secant_method(function_1, 100000, -30, 20, True)\n",
        "end = time.time()\n",
        "\n",
        "print(\"the result : \", result)\n",
        "print(\"time : \", end-start)"
      ],
      "execution_count": null,
      "outputs": [
        {
          "output_type": "stream",
          "name": "stdout",
          "text": [
            "iteration:  0 \t x_1:  20 \t x_2:  -136.32792783972874 \t denominator:  647057457248.9998\n",
            "iteration:  1 \t x_1:  -136.32792783972874 \t x_2:  26.127318658590895 \t denominator:  51614950836396.14\n",
            "iteration:  2 \t x_1:  26.127318658590895 \t x_2:  36.48190488429711 \t denominator:  -50424079619431.22\n",
            "iteration:  3 \t x_1:  36.48190488429711 \t x_2:  13.150228293876502 \t denominator:  2564439203669.7007\n",
            "iteration:  4 \t x_1:  13.150228293876502 \t x_2:  8.389675815597858 \t denominator:  -4799161370647.096\n",
            "iteration:  5 \t x_1:  8.389675815597858 \t x_2:  4.624662440290264 \t denominator:  -546777841233.1483\n",
            "iteration:  6 \t x_1:  4.624662440290264 \t x_2:  3.4360830248839456 \t denominator:  -328674713588.1409\n",
            "iteration:  7 \t x_1:  3.4360830248839456 \t x_2:  3.169127259754528 \t denominator:  -84729271443.97816\n",
            "iteration:  8 \t x_1:  3.169127259754528 \t x_2:  3.150265617047421 \t denominator:  -17774410247.763214\n",
            "iteration:  9 \t x_1:  3.150265617047421 \t x_2:  3.1500002500841244 \t denominator:  -1238419682.6425955\n",
            "iteration:  10 \t x_1:  3.1500002500841244 \t x_2:  3.150000000003273 \t denominator:  -17407087.07661818\n",
            "iteration:  11 \t x_1:  3.150000000003273 \t x_2:  3.15 \t denominator:  -16404.160243863724\n",
            "iteration:  12 \t x_1:  3.15 \t x_2:  3.15 \t denominator:  -0.21468972867325353\n",
            "the result :  3.15\n",
            "time :  0.0016057491302490234\n"
          ]
        }
      ]
    },
    {
      "cell_type": "code",
      "metadata": {
        "colab": {
          "base_uri": "https://localhost:8080/"
        },
        "id": "sT2wDb8Hkwcc",
        "outputId": "c14f27ba-d28c-4f88-9609-046f97e9083c"
      },
      "source": [
        "function_1(3.15) # iteration number is very low and sucessfuly find root!"
      ],
      "execution_count": null,
      "outputs": [
        {
          "output_type": "execute_result",
          "data": {
            "text/plain": [
              "0.0"
            ]
          },
          "metadata": {},
          "execution_count": 88
        }
      ]
    },
    {
      "cell_type": "markdown",
      "metadata": {
        "id": "1mGed-SHFpou"
      },
      "source": [
        "regular falsi_method"
      ]
    },
    {
      "cell_type": "code",
      "metadata": {
        "colab": {
          "base_uri": "https://localhost:8080/"
        },
        "id": "4LnoEzpkFrVt",
        "outputId": "32da5b2e-49e2-4cd9-873e-d8fe300ebd73"
      },
      "source": [
        "start = time.time()\n",
        "result = regula_falsi_method(function_1,-20, 30, 0.0000001, PRINT = True)\n",
        "end = time.time()\n",
        "\n",
        "print(\"the result : \", result)\n",
        "print(\"time : \", end-start)"
      ],
      "execution_count": null,
      "outputs": [
        {
          "output_type": "stream",
          "name": "stdout",
          "text": [
            "iteration:  1 \t\t mid =  -17.25238712995607 \t\t b-a =  47.25238712995607\n",
            "iteration:  2 \t\t mid =  -17.174325829173636 \t\t b-a =  47.17432582917364\n",
            "iteration:  3 \t\t mid =  -17.155904192453264 \t\t b-a =  47.155904192453264\n",
            "iteration:  4 \t\t mid =  -17.15144014033706 \t\t b-a =  47.15144014033706\n",
            "iteration:  5 \t\t mid =  -17.150351696815864 \t\t b-a =  47.15035169681586\n",
            "iteration:  6 \t\t mid =  -17.150085912935538 \t\t b-a =  47.15008591293554\n",
            "iteration:  7 \t\t mid =  -17.150020988411164 \t\t b-a =  47.150020988411164\n",
            "iteration:  8 \t\t mid =  -17.15000512752884 \t\t b-a =  47.15000512752884\n",
            "iteration:  9 \t\t mid =  -17.150001252675267 \t\t b-a =  47.15000125267527\n",
            "iteration:  10 \t\t mid =  -17.150000306033764 \t\t b-a =  47.15000030603376\n",
            "iteration:  11 \t\t mid =  -17.150000074765337 \t\t b-a =  47.15000007476534\n",
            "iteration:  12 \t\t mid =  -17.150000018265487 \t\t b-a =  47.15000001826549\n",
            "iteration:  13 \t\t mid =  -17.150000004462335 \t\t b-a =  47.150000004462335\n",
            "iteration:  14 \t\t mid =  -17.150000001090167 \t\t b-a =  47.15000000109016\n",
            "iteration:  15 \t\t mid =  -17.15000000026633 \t\t b-a =  47.15000000026633\n",
            "iteration:  16 \t\t mid =  -17.150000000065067 \t\t b-a =  47.15000000006506\n",
            "iteration:  17 \t\t mid =  -17.150000000015893 \t\t b-a =  47.15000000001589\n",
            "iteration:  18 \t\t mid =  -17.15000000000388 \t\t b-a =  47.150000000003885\n",
            "iteration:  19 \t\t mid =  -17.150000000000947 \t\t b-a =  47.150000000000944\n",
            "iteration:  20 \t\t mid =  -17.15000000000023 \t\t b-a =  47.15000000000023\n",
            "iteration:  21 \t\t mid =  -17.150000000000055 \t\t b-a =  47.150000000000055\n",
            "iteration:  22 \t\t mid =  -17.150000000000013 \t\t b-a =  47.15000000000001\n",
            "iteration:  23 \t\t mid =  -17.150000000000002 \t\t b-a =  47.150000000000006\n",
            "iteration:  24 \t\t mid =  -17.15 \t\t b-a =  47.15\n",
            "the result :  -17.15\n",
            "time :  0.021124601364135742\n"
          ]
        }
      ]
    },
    {
      "cell_type": "code",
      "metadata": {
        "colab": {
          "base_uri": "https://localhost:8080/"
        },
        "id": "yJnyRVQGhyVt",
        "outputId": "38ba7401-bdd4-470e-e123-b6af56cfdfbe"
      },
      "source": [
        "function_1(-17.15) # iteration number is very low and sucessfuly find root!"
      ],
      "execution_count": null,
      "outputs": [
        {
          "output_type": "execute_result",
          "data": {
            "text/plain": [
              "-0.0"
            ]
          },
          "metadata": {},
          "execution_count": 105
        }
      ]
    },
    {
      "cell_type": "markdown",
      "metadata": {
        "id": "o629YFR1rdLn"
      },
      "source": [
        "# function 2\n",
        "what if function has its derivatives, but its derivative is discontinuous?  \n",
        "f(x) = -1/2 * x^2 (x<0)  \n",
        "       +1/2 * x^2 (x>=0)\n",
        "root of f(x) is zero."
      ]
    },
    {
      "cell_type": "code",
      "metadata": {
        "id": "_js-oFlItLRX"
      },
      "source": [
        "def function_2(x) : \n",
        "  if (x>=0):\n",
        "    return 1/2 * x ** 2\n",
        "  else : \n",
        "    return -1/2 * x ** 2"
      ],
      "execution_count": null,
      "outputs": []
    },
    {
      "cell_type": "markdown",
      "metadata": {
        "id": "NEm6dgL3tYuz"
      },
      "source": [
        "method of bisection"
      ]
    },
    {
      "cell_type": "code",
      "metadata": {
        "colab": {
          "base_uri": "https://localhost:8080/"
        },
        "id": "fCv7LnrXtWw6",
        "outputId": "6ca801e1-6fdb-48eb-dd4a-310d128b7255"
      },
      "source": [
        "start = time.time()\n",
        "result = method_of_bisection(function_2, -10, 10, 0.001)\n",
        "end = time.time()\n",
        "\n",
        "print(\"the result : \", result)\n",
        "print(\"time : \", end-start)\n",
        "\n",
        "# comment : sucessfuly find root!"
      ],
      "execution_count": null,
      "outputs": [
        {
          "output_type": "stream",
          "name": "stdout",
          "text": [
            "the result :  0.0\n",
            "time :  9.655952453613281e-05\n"
          ]
        }
      ]
    },
    {
      "cell_type": "markdown",
      "metadata": {
        "id": "t5j6CNRutaoo"
      },
      "source": [
        "newtons method"
      ]
    },
    {
      "cell_type": "code",
      "metadata": {
        "colab": {
          "base_uri": "https://localhost:8080/"
        },
        "id": "uuUsXoNWtr2M",
        "outputId": "4b6182b7-54ee-4bec-fec4-4fceed55e4b6"
      },
      "source": [
        "start = time.time()\n",
        "result = newtons_method(function_2, 100000, 3)\n",
        "end = time.time()\n",
        "\n",
        "print(\"the result : \", result)\n",
        "print(\"time : \", end-start)\n",
        "\n",
        "# comment : sucessfuly find root!"
      ],
      "execution_count": null,
      "outputs": [
        {
          "output_type": "stream",
          "name": "stdout",
          "text": [
            "the result :  1.0001670230710876e-13\n",
            "time :  2.7524914741516113\n"
          ]
        }
      ]
    },
    {
      "cell_type": "markdown",
      "metadata": {
        "id": "l0fSyNp6thrD"
      },
      "source": [
        "secant method"
      ]
    },
    {
      "cell_type": "code",
      "metadata": {
        "colab": {
          "base_uri": "https://localhost:8080/"
        },
        "id": "BNVQ8870tvzO",
        "outputId": "83b8b042-b1bd-4dd0-ccbd-8d3e6815ddfe"
      },
      "source": [
        "start = time.time()\n",
        "result = secant_method(function_2, 100, 0, 10, True)\n",
        "end = time.time()\n",
        "\n",
        "print(\"the result : \", result) \n",
        "print(\"time : \", end-start)\n",
        "\n",
        "# comment : sucessfuly find root!"
      ],
      "execution_count": null,
      "outputs": [
        {
          "output_type": "stream",
          "name": "stdout",
          "text": [
            "iteration:  0 \t x_1:  10 \t x_2:  0.0 \t denominator:  50.0\n",
            "iteration:  1 \t x_1:  0.0 \t x_2:  0.0 \t denominator:  -50.0\n",
            "the result :  0.0\n",
            "time :  0.00044155120849609375\n"
          ]
        }
      ]
    },
    {
      "cell_type": "markdown",
      "metadata": {
        "id": "y3JJoUbctmJp"
      },
      "source": [
        "regula falsi method"
      ]
    },
    {
      "cell_type": "code",
      "metadata": {
        "colab": {
          "base_uri": "https://localhost:8080/"
        },
        "id": "hySAemzrtybK",
        "outputId": "c291358f-5f88-4521-b2ba-c00feb2eada4"
      },
      "source": [
        "start = time.time()\n",
        "result = regula_falsi_method(function_2,-2, 10, 0.001, iteration_limit=500)\n",
        "end = time.time()\n",
        "\n",
        "print(\"the result : \", result)\n",
        "print(\"time : \", end-start)\n",
        "\n",
        "# comment : sucessfuly find root!"
      ],
      "execution_count": null,
      "outputs": [
        {
          "output_type": "stream",
          "name": "stdout",
          "text": [
            "the result :  -3.2218897845632524e+150\n",
            "time :  0.0010962486267089844\n"
          ]
        }
      ]
    },
    {
      "cell_type": "markdown",
      "metadata": {
        "id": "T-0tg5lIXSJ7"
      },
      "source": [
        "# function 3"
      ]
    },
    {
      "cell_type": "markdown",
      "metadata": {
        "id": "bPAOZH7RKNLa"
      },
      "source": [
        "if there is too many root in a functon?  \n",
        "f(x) = e^x * cos(x)  \n",
        "root is 2n*pi+pi/4, 2n*pi+pi*3/4  \n"
      ]
    },
    {
      "cell_type": "code",
      "metadata": {
        "id": "gE7OF91hcEbB"
      },
      "source": [
        "def function_3(x) : \n",
        "  import numpy as np\n",
        "  return np.exp(x) * np.cos(x)"
      ],
      "execution_count": null,
      "outputs": []
    },
    {
      "cell_type": "markdown",
      "metadata": {
        "id": "oFeYXKJZdsaA"
      },
      "source": [
        "method of bisection"
      ]
    },
    {
      "cell_type": "code",
      "metadata": {
        "colab": {
          "base_uri": "https://localhost:8080/"
        },
        "id": "03m-cNsAcNDM",
        "outputId": "01609880-e6eb-4127-ada4-a3090be0a1da"
      },
      "source": [
        "start = time.time()\n",
        "result = method_of_bisection(function_3, -10, 10, 0.00001)\n",
        "end = time.time()\n",
        "\n",
        "print(\"the result : \", result)\n",
        "print(\"time : \", end-start)"
      ],
      "execution_count": null,
      "outputs": [
        {
          "output_type": "stream",
          "name": "stdout",
          "text": [
            "the result :  -7.853975296020508\n",
            "time :  0.0006530284881591797\n"
          ]
        }
      ]
    },
    {
      "cell_type": "code",
      "metadata": {
        "colab": {
          "base_uri": "https://localhost:8080/"
        },
        "id": "2Q4z743jezWy",
        "outputId": "8437332a-efe2-409e-c886-12a5808c3aaf"
      },
      "source": [
        "function_3(-7.853975296020508)  # nearby root!"
      ],
      "execution_count": null,
      "outputs": [
        {
          "output_type": "execute_result",
          "data": {
            "text/plain": [
              "2.4604296335693875e-09"
            ]
          },
          "metadata": {},
          "execution_count": 131
        }
      ]
    },
    {
      "cell_type": "markdown",
      "metadata": {
        "id": "b2U4w0YFeEGk"
      },
      "source": [
        "newtons method"
      ]
    },
    {
      "cell_type": "code",
      "metadata": {
        "colab": {
          "base_uri": "https://localhost:8080/"
        },
        "id": "3EugAs18eEap",
        "outputId": "b70da618-8ebd-4d4c-dcb5-c6f9b033a030"
      },
      "source": [
        "start = time.time()\n",
        "result = newtons_method(function_3, 100000, 3)\n",
        "end = time.time()\n",
        "\n",
        "print(\"the result : \", result)\n",
        "print(\"time : \", end-start)"
      ],
      "execution_count": null,
      "outputs": [
        {
          "output_type": "stream",
          "name": "stdout",
          "text": [
            "the result :  1.5707963267948966\n",
            "time :  5.359892129898071\n"
          ]
        }
      ]
    },
    {
      "cell_type": "code",
      "metadata": {
        "colab": {
          "base_uri": "https://localhost:8080/"
        },
        "id": "_LFwYtejerf_",
        "outputId": "d04afb30-8409-4e96-b2c3-44cd3b934a7b"
      },
      "source": [
        "function_3(1.5707963267948966)  # nearby root!"
      ],
      "execution_count": null,
      "outputs": [
        {
          "output_type": "execute_result",
          "data": {
            "text/plain": [
              "2.94556786348498e-16"
            ]
          },
          "metadata": {},
          "execution_count": 27
        }
      ]
    },
    {
      "cell_type": "markdown",
      "metadata": {
        "id": "WGYy3pP5d5mJ"
      },
      "source": [
        "secant method"
      ]
    },
    {
      "cell_type": "code",
      "metadata": {
        "colab": {
          "base_uri": "https://localhost:8080/"
        },
        "id": "19-BykZHd6G8",
        "outputId": "2a77b011-10dc-4d61-b84c-70e4cc81917d"
      },
      "source": [
        "start = time.time()\n",
        "result = secant_method(function_3, 100, 0, 10, True)\n",
        "end = time.time()\n",
        "\n",
        "print(\"the result : \", result)\n",
        "print(\"time : \", end-start)"
      ],
      "execution_count": null,
      "outputs": [
        {
          "output_type": "stream",
          "name": "stdout",
          "text": [
            "iteration:  0 \t x_1:  10 \t x_2:  0.0005410441404887223 \t denominator:  -18482.78033459865\n",
            "iteration:  1 \t x_1:  0.0005410441404887223 \t x_2:  0.0010823517051524556 \t denominator:  18482.780875642737\n",
            "iteration:  2 \t x_1:  0.0010823517051524556 \t x_2:  -1.0000006839852753 \t denominator:  0.0005413071945892245\n",
            "iteration:  3 \t x_1:  -1.0000006839852753 \t x_2:  -1.2480088093258221 \t denominator:  -0.8023165886232024\n",
            "iteration:  4 \t x_1:  -1.2480088093258221 \t x_2:  -1.4577034492775618 \t denominator:  -0.10770204577523085\n",
            "iteration:  5 \t x_1:  -1.4577034492775618 \t x_2:  -1.5427156800375779 \t denominator:  -0.06479514128226849\n",
            "iteration:  6 \t x_1:  -1.5427156800375779 \t x_2:  -1.5678968710774221 \t denominator:  -0.020265730697005508\n",
            "iteration:  7 \t x_1:  -1.5678968710774221 \t x_2:  -1.5707165619599657 \t denominator:  -0.005398357978271752\n",
            "iteration:  8 \t x_1:  -1.5707165619599657 \t x_2:  -1.5707960959789342 \t denominator:  -0.0005879041235443456\n",
            "iteration:  9 \t x_1:  -1.5707960959789342 \t x_2:  -1.5707963267764866 \t denominator:  -1.6534820811767507e-05\n",
            "iteration:  10 \t x_1:  -1.5707963267764866 \t x_2:  -1.5707963267948966 \t denominator:  -4.797810849131526e-08\n",
            "iteration:  11 \t x_1:  -1.5707963267948966 \t x_2:  -1.5707963267948966 \t denominator:  -3.8270505775839966e-12\n",
            "the result :  -1.5707963267948966\n",
            "time :  0.009058713912963867\n"
          ]
        }
      ]
    },
    {
      "cell_type": "code",
      "metadata": {
        "colab": {
          "base_uri": "https://localhost:8080/"
        },
        "id": "WtKQZ-dXpljv",
        "outputId": "1147e3db-4ec1-473b-ef2c-08ac7713fd62"
      },
      "source": [
        "function_3(-1.5707963267948966)  # nearby root!"
      ],
      "execution_count": null,
      "outputs": [
        {
          "output_type": "execute_result",
          "data": {
            "text/plain": [
              "1.272895288930342e-17"
            ]
          },
          "metadata": {},
          "execution_count": 99
        }
      ]
    },
    {
      "cell_type": "markdown",
      "metadata": {
        "id": "-eBrqyXBdy1I"
      },
      "source": [
        "regula falsi method"
      ]
    },
    {
      "cell_type": "code",
      "metadata": {
        "colab": {
          "base_uri": "https://localhost:8080/"
        },
        "id": "fL1eJnCYdtx1",
        "outputId": "4fad1ed2-b91f-4e0f-af0e-73f6aab7449d"
      },
      "source": [
        "start = time.time()\n",
        "result = regula_falsi_method(function_3,-2, 10, 0.001, iteration_limit=1000000)\n",
        "end = time.time()\n",
        "\n",
        "print(\"the result : \", result)\n",
        "print(\"time : \", end-start)"
      ],
      "execution_count": null,
      "outputs": [
        {
          "output_type": "stream",
          "name": "stdout",
          "text": [
            "the result :  -1.5707963267957497\n",
            "time :  22.143407583236694\n"
          ]
        }
      ]
    },
    {
      "cell_type": "code",
      "metadata": {
        "colab": {
          "base_uri": "https://localhost:8080/"
        },
        "id": "i4RddKzvhWVV",
        "outputId": "6f598d26-04fc-4b61-ad8c-c72881bef6e6"
      },
      "source": [
        "function_3(-1.5707963267957497) # nearby root!"
      ],
      "execution_count": null,
      "outputs": [
        {
          "output_type": "execute_result",
          "data": {
            "text/plain": [
              "-1.7732837559047017e-13"
            ]
          },
          "metadata": {},
          "execution_count": 140
        }
      ]
    },
    {
      "cell_type": "markdown",
      "metadata": {
        "id": "pOIzVhNxKIeT"
      },
      "source": [
        "# function 4\n",
        "What if there is no root in a function?  \n",
        "f(x) = exp(x)  \n",
        "root does not exist  "
      ]
    },
    {
      "cell_type": "code",
      "metadata": {
        "id": "PXBHr6BAPhuG"
      },
      "source": [
        "def function_4(x) : \n",
        "  import numpy as np\n",
        "  return np.exp(x)"
      ],
      "execution_count": null,
      "outputs": []
    },
    {
      "cell_type": "code",
      "metadata": {
        "colab": {
          "base_uri": "https://localhost:8080/"
        },
        "id": "jbAAArdKPmaj",
        "outputId": "2fe1202b-7f4e-4115-d293-71b3caea427f"
      },
      "source": [
        "function_4(1) #function works well"
      ],
      "execution_count": null,
      "outputs": [
        {
          "output_type": "execute_result",
          "data": {
            "text/plain": [
              "2.718281828459045"
            ]
          },
          "metadata": {},
          "execution_count": 42
        }
      ]
    },
    {
      "cell_type": "markdown",
      "metadata": {
        "id": "TayQbDaiWG6q"
      },
      "source": [
        "method of bisection"
      ]
    },
    {
      "cell_type": "code",
      "metadata": {
        "colab": {
          "base_uri": "https://localhost:8080/"
        },
        "id": "OVyqejjDWKSs",
        "outputId": "fb5f176a-9c87-4ed6-b0df-01bc090b0cc2"
      },
      "source": [
        "start = time.time()\n",
        "result = method_of_bisection(function_4, -100, 100, 0.00001)\n",
        "end = time.time()\n",
        "\n",
        "print(\"the result : \", result)\n",
        "print(\"time : \", end-start) \n",
        "\n",
        "#comment : method of bisection results the value around end point of interval"
      ],
      "execution_count": null,
      "outputs": [
        {
          "output_type": "stream",
          "name": "stdout",
          "text": [
            "the result :  95.81857323646545\n",
            "time :  0.0008561611175537109\n"
          ]
        }
      ]
    },
    {
      "cell_type": "markdown",
      "metadata": {
        "id": "tOGFeXqOWExd"
      },
      "source": [
        "newtons method"
      ]
    },
    {
      "cell_type": "code",
      "metadata": {
        "colab": {
          "base_uri": "https://localhost:8080/",
          "height": 504
        },
        "id": "fpe01WVOWB5D",
        "outputId": "a903aa62-fbd5-4066-ef1e-d80e9b8991c5"
      },
      "source": [
        "start = time.time()\n",
        "result = newtons_method(function_4, 10000000, -300)\n",
        "end = time.time()\n",
        "\n",
        "print(\"the result : \", result)\n",
        "print(\"time : \", end-start)\n",
        "\n",
        "#comment : function runs continuously and I stopted it."
      ],
      "execution_count": null,
      "outputs": [
        {
          "output_type": "stream",
          "name": "stderr",
          "text": [
            "/usr/local/lib/python3.7/dist-packages/ipykernel_launcher.py:11: RuntimeWarning: divide by zero encountered in double_scalars\n",
            "  # This is added back by InteractiveShellApp.init_path()\n",
            "/usr/local/lib/python3.7/dist-packages/ipykernel_launcher.py:11: RuntimeWarning: invalid value encountered in double_scalars\n",
            "  # This is added back by InteractiveShellApp.init_path()\n"
          ]
        },
        {
          "output_type": "error",
          "ename": "KeyboardInterrupt",
          "evalue": "ignored",
          "traceback": [
            "\u001b[0;31m---------------------------------------------------------------------------\u001b[0m",
            "\u001b[0;31mKeyboardInterrupt\u001b[0m                         Traceback (most recent call last)",
            "\u001b[0;32m<ipython-input-12-c7a8308892ba>\u001b[0m in \u001b[0;36m<module>\u001b[0;34m()\u001b[0m\n\u001b[1;32m      1\u001b[0m \u001b[0mstart\u001b[0m \u001b[0;34m=\u001b[0m \u001b[0mtime\u001b[0m\u001b[0;34m.\u001b[0m\u001b[0mtime\u001b[0m\u001b[0;34m(\u001b[0m\u001b[0;34m)\u001b[0m\u001b[0;34m\u001b[0m\u001b[0;34m\u001b[0m\u001b[0m\n\u001b[0;32m----> 2\u001b[0;31m \u001b[0mresult\u001b[0m \u001b[0;34m=\u001b[0m \u001b[0mnewtons_method\u001b[0m\u001b[0;34m(\u001b[0m\u001b[0mfunction_4\u001b[0m\u001b[0;34m,\u001b[0m \u001b[0;36m10000000\u001b[0m\u001b[0;34m,\u001b[0m \u001b[0;34m-\u001b[0m\u001b[0;36m300\u001b[0m\u001b[0;34m)\u001b[0m\u001b[0;34m\u001b[0m\u001b[0;34m\u001b[0m\u001b[0m\n\u001b[0m\u001b[1;32m      3\u001b[0m \u001b[0mend\u001b[0m \u001b[0;34m=\u001b[0m \u001b[0mtime\u001b[0m\u001b[0;34m.\u001b[0m\u001b[0mtime\u001b[0m\u001b[0;34m(\u001b[0m\u001b[0;34m)\u001b[0m\u001b[0;34m\u001b[0m\u001b[0;34m\u001b[0m\u001b[0m\n\u001b[1;32m      4\u001b[0m \u001b[0;34m\u001b[0m\u001b[0m\n\u001b[1;32m      5\u001b[0m \u001b[0mprint\u001b[0m\u001b[0;34m(\u001b[0m\u001b[0;34m\"the result : \"\u001b[0m\u001b[0;34m,\u001b[0m \u001b[0mresult\u001b[0m\u001b[0;34m)\u001b[0m\u001b[0;34m\u001b[0m\u001b[0;34m\u001b[0m\u001b[0m\n",
            "\u001b[0;32m<ipython-input-2-eaecc090058b>\u001b[0m in \u001b[0;36mnewtons_method\u001b[0;34m(optimization_function, num_iteration, initial)\u001b[0m\n\u001b[1;32m      9\u001b[0m   \u001b[0;31m#Netwon's method\u001b[0m\u001b[0;34m\u001b[0m\u001b[0;34m\u001b[0m\u001b[0;34m\u001b[0m\u001b[0m\n\u001b[1;32m     10\u001b[0m   \u001b[0;32mfor\u001b[0m \u001b[0mi\u001b[0m \u001b[0;32min\u001b[0m \u001b[0mrange\u001b[0m\u001b[0;34m(\u001b[0m\u001b[0mnum_iteration\u001b[0m\u001b[0;34m)\u001b[0m\u001b[0;34m:\u001b[0m\u001b[0;34m\u001b[0m\u001b[0;34m\u001b[0m\u001b[0m\n\u001b[0;32m---> 11\u001b[0;31m     \u001b[0mx\u001b[0m \u001b[0;34m=\u001b[0m \u001b[0mx\u001b[0m \u001b[0;34m-\u001b[0m \u001b[0moptimization_function\u001b[0m\u001b[0;34m(\u001b[0m\u001b[0mx\u001b[0m\u001b[0;34m)\u001b[0m\u001b[0;34m/\u001b[0m\u001b[0mderivative\u001b[0m\u001b[0;34m(\u001b[0m\u001b[0moptimization_function\u001b[0m\u001b[0;34m,\u001b[0m \u001b[0mx\u001b[0m\u001b[0;34m,\u001b[0m \u001b[0mdx\u001b[0m\u001b[0;34m=\u001b[0m\u001b[0;36m1e-8\u001b[0m\u001b[0;34m)\u001b[0m\u001b[0;34m\u001b[0m\u001b[0;34m\u001b[0m\u001b[0m\n\u001b[0m\u001b[1;32m     12\u001b[0m \u001b[0;34m\u001b[0m\u001b[0m\n\u001b[1;32m     13\u001b[0m   \u001b[0;32mreturn\u001b[0m \u001b[0mx\u001b[0m\u001b[0;34m\u001b[0m\u001b[0;34m\u001b[0m\u001b[0m\n",
            "\u001b[0;32m/usr/local/lib/python3.7/dist-packages/scipy/misc/common.py\u001b[0m in \u001b[0;36mderivative\u001b[0;34m(func, x0, dx, n, args, order)\u001b[0m\n\u001b[1;32m    118\u001b[0m     \u001b[0;32mfor\u001b[0m \u001b[0mk\u001b[0m \u001b[0;32min\u001b[0m \u001b[0mrange\u001b[0m\u001b[0;34m(\u001b[0m\u001b[0morder\u001b[0m\u001b[0;34m)\u001b[0m\u001b[0;34m:\u001b[0m\u001b[0;34m\u001b[0m\u001b[0;34m\u001b[0m\u001b[0m\n\u001b[1;32m    119\u001b[0m         \u001b[0mval\u001b[0m \u001b[0;34m+=\u001b[0m \u001b[0mweights\u001b[0m\u001b[0;34m[\u001b[0m\u001b[0mk\u001b[0m\u001b[0;34m]\u001b[0m\u001b[0;34m*\u001b[0m\u001b[0mfunc\u001b[0m\u001b[0;34m(\u001b[0m\u001b[0mx0\u001b[0m\u001b[0;34m+\u001b[0m\u001b[0;34m(\u001b[0m\u001b[0mk\u001b[0m\u001b[0;34m-\u001b[0m\u001b[0mho\u001b[0m\u001b[0;34m)\u001b[0m\u001b[0;34m*\u001b[0m\u001b[0mdx\u001b[0m\u001b[0;34m,\u001b[0m\u001b[0;34m*\u001b[0m\u001b[0margs\u001b[0m\u001b[0;34m)\u001b[0m\u001b[0;34m\u001b[0m\u001b[0;34m\u001b[0m\u001b[0m\n\u001b[0;32m--> 120\u001b[0;31m     \u001b[0;32mreturn\u001b[0m \u001b[0mval\u001b[0m \u001b[0;34m/\u001b[0m \u001b[0mprod\u001b[0m\u001b[0;34m(\u001b[0m\u001b[0;34m(\u001b[0m\u001b[0mdx\u001b[0m\u001b[0;34m,\u001b[0m\u001b[0;34m)\u001b[0m\u001b[0;34m*\u001b[0m\u001b[0mn\u001b[0m\u001b[0;34m,\u001b[0m\u001b[0maxis\u001b[0m\u001b[0;34m=\u001b[0m\u001b[0;36m0\u001b[0m\u001b[0;34m)\u001b[0m\u001b[0;34m\u001b[0m\u001b[0;34m\u001b[0m\u001b[0m\n\u001b[0m\u001b[1;32m    121\u001b[0m \u001b[0;34m\u001b[0m\u001b[0m\n\u001b[1;32m    122\u001b[0m \u001b[0;34m\u001b[0m\u001b[0m\n",
            "\u001b[0;32m<__array_function__ internals>\u001b[0m in \u001b[0;36mprod\u001b[0;34m(*args, **kwargs)\u001b[0m\n",
            "\u001b[0;32m/usr/local/lib/python3.7/dist-packages/numpy/core/fromnumeric.py\u001b[0m in \u001b[0;36mprod\u001b[0;34m(a, axis, dtype, out, keepdims, initial, where)\u001b[0m\n\u001b[1;32m   2998\u001b[0m     \"\"\"\n\u001b[1;32m   2999\u001b[0m     return _wrapreduction(a, np.multiply, 'prod', axis, dtype, out,\n\u001b[0;32m-> 3000\u001b[0;31m                           keepdims=keepdims, initial=initial, where=where)\n\u001b[0m\u001b[1;32m   3001\u001b[0m \u001b[0;34m\u001b[0m\u001b[0m\n\u001b[1;32m   3002\u001b[0m \u001b[0;34m\u001b[0m\u001b[0m\n",
            "\u001b[0;32m/usr/local/lib/python3.7/dist-packages/numpy/core/fromnumeric.py\u001b[0m in \u001b[0;36m_wrapreduction\u001b[0;34m(obj, ufunc, method, axis, dtype, out, **kwargs)\u001b[0m\n\u001b[1;32m     68\u001b[0m \u001b[0;34m\u001b[0m\u001b[0m\n\u001b[1;32m     69\u001b[0m \u001b[0;34m\u001b[0m\u001b[0m\n\u001b[0;32m---> 70\u001b[0;31m \u001b[0;32mdef\u001b[0m \u001b[0m_wrapreduction\u001b[0m\u001b[0;34m(\u001b[0m\u001b[0mobj\u001b[0m\u001b[0;34m,\u001b[0m \u001b[0mufunc\u001b[0m\u001b[0;34m,\u001b[0m \u001b[0mmethod\u001b[0m\u001b[0;34m,\u001b[0m \u001b[0maxis\u001b[0m\u001b[0;34m,\u001b[0m \u001b[0mdtype\u001b[0m\u001b[0;34m,\u001b[0m \u001b[0mout\u001b[0m\u001b[0;34m,\u001b[0m \u001b[0;34m**\u001b[0m\u001b[0mkwargs\u001b[0m\u001b[0;34m)\u001b[0m\u001b[0;34m:\u001b[0m\u001b[0;34m\u001b[0m\u001b[0;34m\u001b[0m\u001b[0m\n\u001b[0m\u001b[1;32m     71\u001b[0m     passkwargs = {k: v for k, v in kwargs.items()\n\u001b[1;32m     72\u001b[0m                   if v is not np._NoValue}\n",
            "\u001b[0;31mKeyboardInterrupt\u001b[0m: "
          ]
        }
      ]
    },
    {
      "cell_type": "markdown",
      "metadata": {
        "id": "KamCC86tVr7e"
      },
      "source": [
        "secant method"
      ]
    },
    {
      "cell_type": "code",
      "metadata": {
        "id": "1DyuMgHpQCWj",
        "colab": {
          "base_uri": "https://localhost:8080/"
        },
        "outputId": "a403f4ef-31d4-45ea-c4c8-2b95c1cf9a84"
      },
      "source": [
        "start = time.time()\n",
        "result = secant_method(function_4, 100, 0, 100)\n",
        "end = time.time()\n",
        "\n",
        "print(\"the result : \", result)\n",
        "print(\"time : \", end-start)\n",
        "\n",
        "#comment : function runs continuously and I stopted it."
      ],
      "execution_count": null,
      "outputs": [
        {
          "output_type": "stream",
          "name": "stdout",
          "text": [
            "the result :  nan\n",
            "time :  0.003739595413208008\n"
          ]
        },
        {
          "output_type": "stream",
          "name": "stderr",
          "text": [
            "/usr/local/lib/python3.7/dist-packages/ipykernel_launcher.py:16: RuntimeWarning: divide by zero encountered in double_scalars\n",
            "  app.launch_new_instance()\n",
            "/usr/local/lib/python3.7/dist-packages/ipykernel_launcher.py:16: RuntimeWarning: invalid value encountered in double_scalars\n",
            "  app.launch_new_instance()\n"
          ]
        }
      ]
    },
    {
      "cell_type": "markdown",
      "metadata": {
        "id": "nrolKVGlQC7w"
      },
      "source": [
        "regula falsi method"
      ]
    },
    {
      "cell_type": "code",
      "metadata": {
        "colab": {
          "base_uri": "https://localhost:8080/",
          "height": 381
        },
        "id": "86OYmL5HP1t1",
        "outputId": "573a2e77-cb94-4134-e53f-b0e9ba51477e"
      },
      "source": [
        "start = time.time()\n",
        "result = regula_falsi_method(function_4,-20, 30, 0.001, False)\n",
        "end = time.time()\n",
        "\n",
        "print(\"the result : \", result)\n",
        "print(\"time : \", end-start)"
      ],
      "execution_count": null,
      "outputs": [
        {
          "output_type": "error",
          "ename": "KeyboardInterrupt",
          "evalue": "ignored",
          "traceback": [
            "\u001b[0;31m---------------------------------------------------------------------------\u001b[0m",
            "\u001b[0;31mKeyboardInterrupt\u001b[0m                         Traceback (most recent call last)",
            "\u001b[0;32m<ipython-input-45-e80565722d00>\u001b[0m in \u001b[0;36m<module>\u001b[0;34m()\u001b[0m\n\u001b[1;32m      1\u001b[0m \u001b[0mstart\u001b[0m \u001b[0;34m=\u001b[0m \u001b[0mtime\u001b[0m\u001b[0;34m.\u001b[0m\u001b[0mtime\u001b[0m\u001b[0;34m(\u001b[0m\u001b[0;34m)\u001b[0m\u001b[0;34m\u001b[0m\u001b[0;34m\u001b[0m\u001b[0m\n\u001b[0;32m----> 2\u001b[0;31m \u001b[0mresult\u001b[0m \u001b[0;34m=\u001b[0m \u001b[0mregula_falsi_method\u001b[0m\u001b[0;34m(\u001b[0m\u001b[0mfunction_4\u001b[0m\u001b[0;34m,\u001b[0m\u001b[0;34m-\u001b[0m\u001b[0;36m20\u001b[0m\u001b[0;34m,\u001b[0m \u001b[0;36m30\u001b[0m\u001b[0;34m,\u001b[0m \u001b[0;36m1\u001b[0m\u001b[0;34m,\u001b[0m \u001b[0;32mFalse\u001b[0m\u001b[0;34m)\u001b[0m\u001b[0;34m\u001b[0m\u001b[0;34m\u001b[0m\u001b[0m\n\u001b[0m\u001b[1;32m      3\u001b[0m \u001b[0mend\u001b[0m \u001b[0;34m=\u001b[0m \u001b[0mtime\u001b[0m\u001b[0;34m.\u001b[0m\u001b[0mtime\u001b[0m\u001b[0;34m(\u001b[0m\u001b[0;34m)\u001b[0m\u001b[0;34m\u001b[0m\u001b[0;34m\u001b[0m\u001b[0m\n\u001b[1;32m      4\u001b[0m \u001b[0;34m\u001b[0m\u001b[0m\n\u001b[1;32m      5\u001b[0m \u001b[0mprint\u001b[0m\u001b[0;34m(\u001b[0m\u001b[0;34m\"the result : \"\u001b[0m\u001b[0;34m,\u001b[0m \u001b[0mresult\u001b[0m\u001b[0;34m)\u001b[0m\u001b[0;34m\u001b[0m\u001b[0;34m\u001b[0m\u001b[0m\n",
            "\u001b[0;32m<ipython-input-34-b194bb174d28>\u001b[0m in \u001b[0;36mregula_falsi_method\u001b[0;34m(optimization_function, start, end, tolerance, PRINT)\u001b[0m\n\u001b[1;32m     29\u001b[0m \u001b[0;34m\u001b[0m\u001b[0m\n\u001b[1;32m     30\u001b[0m     \u001b[0;31m#termination condition\u001b[0m\u001b[0;34m\u001b[0m\u001b[0;34m\u001b[0m\u001b[0;34m\u001b[0m\u001b[0m\n\u001b[0;32m---> 31\u001b[0;31m     \u001b[0;32mif\u001b[0m\u001b[0;34m(\u001b[0m\u001b[0moptimization_function\u001b[0m\u001b[0;34m(\u001b[0m\u001b[0mmid\u001b[0m\u001b[0;34m)\u001b[0m \u001b[0;34m==\u001b[0m \u001b[0;36m0\u001b[0m \u001b[0;32mor\u001b[0m \u001b[0mb\u001b[0m\u001b[0;34m-\u001b[0m\u001b[0ma\u001b[0m \u001b[0;34m<\u001b[0m \u001b[0mtolerance\u001b[0m\u001b[0;34m)\u001b[0m\u001b[0;34m:\u001b[0m\u001b[0;34m\u001b[0m\u001b[0;34m\u001b[0m\u001b[0m\n\u001b[0m\u001b[1;32m     32\u001b[0m       \u001b[0mcondition\u001b[0m \u001b[0;34m=\u001b[0m \u001b[0;32mFalse\u001b[0m\u001b[0;34m\u001b[0m\u001b[0;34m\u001b[0m\u001b[0m\n\u001b[1;32m     33\u001b[0m       \u001b[0;32mreturn\u001b[0m \u001b[0mmid\u001b[0m\u001b[0;34m\u001b[0m\u001b[0;34m\u001b[0m\u001b[0m\n",
            "\u001b[0;31mKeyboardInterrupt\u001b[0m: "
          ]
        }
      ]
    },
    {
      "cell_type": "markdown",
      "metadata": {
        "id": "eVSfRrm7zH1z"
      },
      "source": [
        "# comment\n",
        "- I showed the number of iteration for only a few case to make the contents of results concise. However, by using PRINT=True argument, I could check all performance."
      ]
    },
    {
      "cell_type": "markdown",
      "metadata": {
        "id": "6qipJkAYGQiU"
      },
      "source": [
        "# **conclusion**\n",
        "- method of bisection\n",
        "  - In case that multiple roots exist, the input interval determines where algorithm converges. \n",
        "  - A input interval determines how quickly the algorithm converges into root\n",
        "  - method of bisection successfully gives output for a function that is differentiable but its derivatives is discontinous.\n",
        "  - If a root does not exist in a function, an algorithm of method of bisection outputs the end point of interval.\n",
        "- Netwon's method\n",
        "  - Initial point is important for Newton's method. It could determine either where to converge and its performance.\n",
        "  - Newton's method successfully gives output for a function that is differentiable but its derivatives is discontinous.\n",
        "  - If a root does not exist in a function, an algorithm of Newton's method trigger runtime warning and it keeps running. For practical usage of this algorithmn, this case sholud be handled to prevent running continuously.\n",
        "- Secant Method  \n",
        "  - Generally, Secant Method method is quciker than method of bisection. It converges very quickly (It takes only a few iteration). \n",
        "  - Secant Method successfully gives output for a function that is differentiable but its derivatives is discontinous. \n",
        " - If a root does not exist in a function, an algorithm of secant method trigger runtime error.\n",
        "- regular falsi method\n",
        "  - Generally, regular falsi method is quciker than method of bisection. It converges very quickly (It takes only a few iteration).\n",
        "  - regular falsi method successfully gives output for a function that is differentiable but its derivatives is discontinous.\n",
        "  - If a root does not exist in a function, an algorithm of regular falsi method does not converge. It runs continuously. For practical usage of this algorithmn, this case sholud be handled to prevent running continuously.\n",
        "- overall\n",
        "  - numerical method has a several of technical issue.\n",
        "  - considering precision of each variable is imporant. Otherwise, they may trigger error such as overflow error.\n",
        "  - the number of iteration and tolerance region sholud be considered. They may depend on the context such as optimization function and experiment design.\n"
      ]
    }
  ]
}